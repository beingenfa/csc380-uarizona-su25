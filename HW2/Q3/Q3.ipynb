{
 "cells": [
  {
   "cell_type": "markdown",
   "id": "4d40b119",
   "metadata": {},
   "source": [
    "<div class=\"alert alert-block alert-warning\">\n",
    "        As a last step before you submit, Please restart the notebook, rerun all cells, save and then submit.\n",
    "</div>"
   ]
  },
  {
   "cell_type": "markdown",
   "id": "70962509",
   "metadata": {},
   "source": [
    "# Problem 3: Law of Large Numbers / Central Limit Theorem\n",
    "\n",
    "Use as many code cells as you like, but keep it within each section( marked by headings ) and subsections ( marked by code cells with comments)"
   ]
  },
  {
   "cell_type": "code",
   "execution_count": null,
   "id": "7eb6adbb",
   "metadata": {},
   "outputs": [],
   "source": [
    "# Your imports"
   ]
  },
  {
   "cell_type": "markdown",
   "id": "97215a10",
   "metadata": {},
   "source": [
    "### A. Law of Large Numbers (5 points)"
   ]
  },
  {
   "cell_type": "code",
   "execution_count": null,
   "id": "7bd8c68e",
   "metadata": {},
   "outputs": [],
   "source": [
    "# Insert code for data"
   ]
  },
  {
   "cell_type": "code",
   "execution_count": null,
   "id": "15b0953a",
   "metadata": {},
   "outputs": [],
   "source": []
  },
  {
   "cell_type": "code",
   "execution_count": null,
   "id": "df530712",
   "metadata": {},
   "outputs": [],
   "source": [
    "# Code to show final plot here"
   ]
  },
  {
   "cell_type": "markdown",
   "id": "94552db3",
   "metadata": {},
   "source": [
    "### B.Central Limit Theorem ( 5 points)"
   ]
  },
  {
   "cell_type": "code",
   "execution_count": null,
   "id": "1014d919",
   "metadata": {},
   "outputs": [],
   "source": [
    "# Insert code for data"
   ]
  },
  {
   "cell_type": "markdown",
   "id": "2b16b60a",
   "metadata": {},
   "source": [
    "#### Histogram"
   ]
  },
  {
   "cell_type": "code",
   "execution_count": null,
   "id": "892bf8a3",
   "metadata": {},
   "outputs": [],
   "source": [
    "# Code to show Histogram here"
   ]
  },
  {
   "cell_type": "markdown",
   "id": "f1a2a604",
   "metadata": {},
   "source": [
    "#### Overlay the Gaussian distribution with the parameters suggested by the CLT"
   ]
  },
  {
   "cell_type": "code",
   "execution_count": null,
   "id": "cace6aa4",
   "metadata": {},
   "outputs": [],
   "source": []
  },
  {
   "cell_type": "code",
   "execution_count": null,
   "id": "6d54359f",
   "metadata": {},
   "outputs": [],
   "source": [
    "# Code to show final plot here"
   ]
  },
  {
   "cell_type": "markdown",
   "id": "a02d1719",
   "metadata": {},
   "source": [
    " ###  C. Function f(n) = a / √n → log-log Plot (5 points)"
   ]
  },
  {
   "cell_type": "code",
   "execution_count": null,
   "id": "2e8f620a",
   "metadata": {},
   "outputs": [],
   "source": [
    "# Insert code for data"
   ]
  },
  {
   "cell_type": "code",
   "execution_count": null,
   "id": "8cf1fed5",
   "metadata": {},
   "outputs": [],
   "source": [
    "# Code to plot the function"
   ]
  },
  {
   "cell_type": "code",
   "execution_count": null,
   "id": "66ab3c24",
   "metadata": {},
   "outputs": [],
   "source": [
    "# Mathematical proof of the claim to be submitted with PDF"
   ]
  },
  {
   "cell_type": "code",
   "execution_count": null,
   "id": "e5e858e4",
   "metadata": {},
   "outputs": [],
   "source": [
    "slope = -1000 # Replace with your code to find the slope\n",
    "print(f'The slope of the function is {slope}')"
   ]
  },
  {
   "cell_type": "markdown",
   "id": "1e108491",
   "metadata": {},
   "source": [
    "###  D. Verifying Rate of Convergence ( 5 points)"
   ]
  },
  {
   "cell_type": "code",
   "execution_count": null,
   "id": "13b409fe",
   "metadata": {},
   "outputs": [],
   "source": [
    "# Code for data\n",
    "m = 2000\n",
    "trajectories_matrix = [] # replace with solution code"
   ]
  },
  {
   "cell_type": "code",
   "execution_count": null,
   "id": "08455a6f",
   "metadata": {},
   "outputs": [],
   "source": []
  },
  {
   "cell_type": "code",
   "execution_count": null,
   "id": "cfcfad1a",
   "metadata": {},
   "outputs": [],
   "source": []
  },
  {
   "cell_type": "code",
   "execution_count": null,
   "id": "1dd3872b",
   "metadata": {},
   "outputs": [],
   "source": [
    "# Code for the plot"
   ]
  }
 ],
 "metadata": {
  "kernelspec": {
   "display_name": "Python 3 (ipykernel)",
   "language": "python",
   "name": "python3"
  },
  "language_info": {
   "codemirror_mode": {
    "name": "ipython",
    "version": 3
   },
   "file_extension": ".py",
   "mimetype": "text/x-python",
   "name": "python",
   "nbconvert_exporter": "python",
   "pygments_lexer": "ipython3",
   "version": "3.11.5"
  }
 },
 "nbformat": 4,
 "nbformat_minor": 5
}
