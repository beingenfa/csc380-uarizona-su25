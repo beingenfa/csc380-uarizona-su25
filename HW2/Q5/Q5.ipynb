{
 "cells": [
  {
   "cell_type": "markdown",
   "id": "25ef5896",
   "metadata": {},
   "source": [
    "# CSC380  Problem 5 K-Nearest Neighbor classification  ( 40 points )\n",
    "\n",
    "<div class=\"alert alert-block alert-warning\">\n",
    "        As a last step before you submit, Please restart the notebook, rerun all cells, save and then submit.\n",
    "</div>"
   ]
  },
  {
   "cell_type": "markdown",
   "id": "4b4ebd68",
   "metadata": {},
   "source": [
    "# To Show or Not To Show the ad? - Targetted Advertising \n",
    "\n",
    "Free Social Media platforms like Facebook, make's a lion's share of total revenue,  from ads, specifically targetted ads. Last year alone, it rose from 46% from a year earlier to $25.44 billion. 💸\n",
    "\n",
    "<img src=\"images/Social-Media.jpg\" alt=\"drawing\" width=\"300\"/>\n",
    "\n",
    "Targeted advertising is advertising content to customers based on their interests, traits, and behaviors. Instead of pushing an ad to general public, hoping some of them buy your product, you show your ads only to those people who are likely to buy it the first place. Less money into advertising, more money made in Sales. \n",
    "\n",
    "In this problem, you are a data scientist at this new up and coming social media platform. We want advertisers on our platform, to perform well in advertising. So we are going to run targeted ads. We have details of our users who already bought product X after seeing the ads. The dataset used is a modified version of [Social Network Ads DataSet](\"https://www.kaggle.com/rakeshrau/social-network-ads/\")\n",
    "\n",
    "In this problem, we are going to use **K-Nearest Neighbor classification** to find potential customers to show ads of a product X. Given the details about a person, how likely are they to buy the product? We will use these predictions to guide our target audience for ads.\n",
    "\n"
   ]
  },
  {
   "cell_type": "code",
   "execution_count": null,
   "id": "d8f890f4",
   "metadata": {},
   "outputs": [],
   "source": [
    "import warnings\n",
    "# Suppress warnings\n",
    "warnings.filterwarnings(\"ignore\")"
   ]
  },
  {
   "cell_type": "markdown",
   "id": "1cf69e4a",
   "metadata": {},
   "source": [
    "## Data"
   ]
  },
  {
   "cell_type": "markdown",
   "id": "64d1cf1d",
   "metadata": {},
   "source": [
    "The first step is to look into the data : Here, since the data do not have any missing values, we deal with two other issues. \n",
    "\n",
    "1. Category Encoding\n",
    "2. Feature Scaling"
   ]
  },
  {
   "cell_type": "code",
   "execution_count": null,
   "id": "d8758b06",
   "metadata": {},
   "outputs": [],
   "source": [
    "import pandas as pd"
   ]
  },
  {
   "cell_type": "code",
   "execution_count": null,
   "id": "b1ca0064",
   "metadata": {},
   "outputs": [],
   "source": [
    "purchases_df = pd.read_csv('data/train_ads.csv') \n",
    "purchases_df.head()"
   ]
  },
  {
   "cell_type": "markdown",
   "id": "8c7cd754",
   "metadata": {},
   "source": [
    "We have three features that would be super useful to make the decision. Gender, Age, and Estimated Salary. Our Target is the column Purchased. "
   ]
  },
  {
   "cell_type": "code",
   "execution_count": null,
   "id": "4a65373f",
   "metadata": {},
   "outputs": [],
   "source": [
    "X_train = purchases_df[['Gender','Age','EstimatedSalary']]\n",
    "Y_train = purchases_df['Purchased']"
   ]
  },
  {
   "cell_type": "markdown",
   "id": "0f0998d1",
   "metadata": {},
   "source": [
    "#### a. Encode categorical values   ( 5 points )\n",
    "\n",
    "Our data contains a catgorical feature (Gender) which is a string.  In order to train the model we must first convert the categorical data into numerical values.  The Scikit-Learn LabelEncoder class handles this for you.  Please use the Preprocessing.LabelEncoder.fit_transform() function to fit and transform categorical values to numerical values for Gender. \n",
    "\n",
    "[Documentation - Scikit-Learn - LabelEncoder](https://scikit-learn.org/stable/modules/generated/sklearn.preprocessing.LabelEncoder.html) "
   ]
  },
  {
   "cell_type": "code",
   "execution_count": null,
   "id": "b9c68c54",
   "metadata": {},
   "outputs": [],
   "source": [
    "# Insert your code here"
   ]
  },
  {
   "cell_type": "markdown",
   "id": "fa371e30",
   "metadata": {},
   "source": [
    "#### b. Feature Scaling  ( 5 points )\n",
    "\n",
    "Feature Scaling is a technique to standardize the independent features present in the data.  The Scikit-Learn Preprocessing StandardScaler performs Z-scoring, as discussed in lecutre.  This will help all numerical data satisfy mean 0 and variance 1. Without this, features with higher variance may dominate the predictions.  Please use StandardScalar to fit and transform all of your data. \n",
    "\n",
    "[sklearn.preprocessing.StandardScaler](https://scikit-learn.org/stable/modules/generated/sklearn.preprocessing.StandardScaler.html)"
   ]
  },
  {
   "cell_type": "code",
   "execution_count": null,
   "id": "bd3be976",
   "metadata": {},
   "outputs": [],
   "source": [
    "# Insert your code here"
   ]
  },
  {
   "cell_type": "markdown",
   "id": "f814a36a",
   "metadata": {},
   "source": [
    "## Model Training, Selection, and Evaluation\n",
    "\n",
    "We will now fit our K-Nearest Neighbor model to training data, compare variations on the model, and evaluate our best model on Test data."
   ]
  },
  {
   "cell_type": "markdown",
   "id": "be0bb8e0",
   "metadata": {},
   "source": [
    "#### c. Initial Model Fit  ( 10 points )\n",
    "\n",
    "In the cell below create a KNeighborsClassifier object with K=2 neighbors, and evaluate cross-validation (CV) score (using cross_val_score) with 10 folds.  Report the mean and standard deviation of the accuracy CV score. \n",
    "\n",
    "[sklearn.neighbors.KNeighborsClassifier](https://scikit-learn.org/stable/modules/generated/sklearn.neighbors.KNeighborsClassifier.html)"
   ]
  },
  {
   "cell_type": "code",
   "execution_count": null,
   "id": "390bbf7a",
   "metadata": {},
   "outputs": [],
   "source": [
    "# Insert your code here"
   ]
  },
  {
   "cell_type": "markdown",
   "id": "59daa182",
   "metadata": {},
   "source": [
    "#### d. Model Selection  ( 5 points )\n",
    "\n",
    "Recall that a K-Nearest Neighbor model has a single *hyperparameter*: the number of neighbors K.  We will perform model selection in order to choose the optimal value of K.  To do this, evaluate the cross validation score (10-fold) for 15 models, each model having a different value K in the range 1 to 15.  Produce the following output:\n",
    "* A plot of K versus accuracy (label axes and title your plot)\n",
    "* Print the value of the highest accuracy\n",
    "* Print the value of K that achieves the highest accuracy\n",
    "\n",
    "As a general rule, when there is a tie, choose the one that induces smoother decision boundary (larger K in our case); otherwise, points will be taken off.\n",
    "\n",
    "This is a great resource [Finding the optimal value of k](https://towardsdatascience.com/how-to-find-the-optimal-value-of-k-in-knn-35d936e554eb)"
   ]
  },
  {
   "cell_type": "code",
   "execution_count": null,
   "id": "47280f3b",
   "metadata": {},
   "outputs": [],
   "source": [
    "# Insert your code here"
   ]
  },
  {
   "cell_type": "markdown",
   "id": "ae320359",
   "metadata": {},
   "source": [
    "#### e. Evaluate the Model  ( 5 points )\n",
    "Now, you will a more careful evaluation of your selected model.  Unlike cross_val_score, which only allows a single scoring function, cross_validate accepts a tuple of scoring functions.  In cell below please create a KNeighborsClassifier with the optimal K value as chosen above.  Use the model_selection.cross_validate function to perform 10-fold cross validation and report the all of the following scores:\n",
    "\n",
    "* Average Prediction accuracy\n",
    "* Average Precision\n",
    "* Average Recall\n",
    "* Average F1\n",
    "\n",
    "Please make the output as readible as possible for your graders.\n",
    "\n",
    "[Documentation - SciKit-Learn - model_selection.cross_validate](https://scikit-learn.org/stable/modules/generated/sklearn.model_selection.cross_validate.html?highlight=cross_validate#sklearn.model_selection.cross_validate)"
   ]
  },
  {
   "cell_type": "code",
   "execution_count": null,
   "id": "bd2778d6",
   "metadata": {},
   "outputs": [],
   "source": [
    "# Insert your code here"
   ]
  },
  {
   "cell_type": "markdown",
   "id": "2f05d9e6",
   "metadata": {},
   "source": [
    "#### f. Train the Final Model  ( 5 points )\n",
    "Cross validation doesn't produce a fitted model--that isn't its purpose.  Instead, cross-validation is used to estimate the generalization scores by averaging scores across multiple train/validation splits.  In the cell below we will finally train our selected model.  Do the following:\n",
    "* Create a K-Nearest Neighbors model with the optimum K value (as we chose previously)\n",
    "* Train the model on all training data (do not use cross validation)\n",
    "* Report prediction accuracy on the training set\n",
    "* Compute and report the confusion matrix on the training data (there is a sklearn function for it)\n",
    "\n",
    "Explanation on confusion matrix: One useful statistic for evaluating classifiers is the *confusion matrix*, which enumerates categories of correct and incorrect classifications.  For more information see the Wikipedia article on the [confusion matrix](https://en.wikipedia.org/wiki/Confusion_matrix).  Compute the confusion matrix and report whether one class is confused for another class more often, or whether they are about the same (within a couple of points).\n",
    "\n",
    "[Documentation - Scikit-Learn - metrics.confusion_matrix](https://scikit-learn.org/stable/modules/generated/sklearn.metrics.confusion_matrix.html?highlight=confusion_matrix#sklearn.metrics.confusion_matrix)"
   ]
  },
  {
   "cell_type": "code",
   "execution_count": null,
   "id": "ca638a80",
   "metadata": {},
   "outputs": [],
   "source": [
    "# Insert your code here"
   ]
  },
  {
   "cell_type": "markdown",
   "id": "a45b8471",
   "metadata": {},
   "source": [
    "##  Testing the Model \n",
    "You may have noticed that we did not ask you to create a Train / Test split.  This dataset has a standard Training / Test split.  However, in this dataset, the Test data represet actual user features who have not been served ads.  As a result, we do not have labels in the true Test set and so cannot compute test accuracy.  In the following cell load the test data, which you will then evaluate using a variety of metrics.\n"
   ]
  },
  {
   "cell_type": "code",
   "execution_count": null,
   "id": "9be8c1d5",
   "metadata": {},
   "outputs": [],
   "source": [
    "# Insert your code here"
   ]
  },
  {
   "cell_type": "markdown",
   "id": "8b0a0a75",
   "metadata": {},
   "source": [
    "\n",
    "#### h. Applying the Model (5 points)\n",
    "\n",
    "Now that we have build our model, let's look for potensial customers of product X to send the ads too. In the data, you will find a csv test_ads.csv. \n",
    "\n",
    "Read the csv, perfrom the Categorical Encoding and Feature Scaling. **Remember to use the same Encoder and Standard Scalar as the ones you used above**  and print the userIds of users who are likely to buy the product. part of the work has been done for you."
   ]
  },
  {
   "cell_type": "code",
   "execution_count": null,
   "id": "e993b640",
   "metadata": {},
   "outputs": [],
   "source": [
    "# Insert your code here"
   ]
  },
  {
   "cell_type": "markdown",
   "id": "73eb414e",
   "metadata": {},
   "source": [
    "# Conclusion"
   ]
  },
  {
   "cell_type": "markdown",
   "id": "c486e2fc",
   "metadata": {},
   "source": [
    "Congragulations, Thanks to your Data Science Skills, our new social media platform is doing well in advertising, and the Clients sales skyrocketed! Your customers are happier and buissness is now booming !\n"
   ]
  },
  {
   "cell_type": "markdown",
   "id": "d95507a5",
   "metadata": {},
   "source": [
    "<img src=\"images/congrats.gif\" alt=\"drawing\" width=\"300\"/>"
   ]
  }
 ],
 "metadata": {
  "kernelspec": {
   "display_name": "Python 3 (ipykernel)",
   "language": "python",
   "name": "python3"
  },
  "language_info": {
   "codemirror_mode": {
    "name": "ipython",
    "version": 3
   },
   "file_extension": ".py",
   "mimetype": "text/x-python",
   "name": "python",
   "nbconvert_exporter": "python",
   "pygments_lexer": "ipython3",
   "version": "3.11.5"
  },
  "vscode": {
   "interpreter": {
    "hash": "31f2aee4e71d21fbe5cf8b01ff0e069b9275f58929596ceb00d14d90e3e16cd6"
   }
  }
 },
 "nbformat": 4,
 "nbformat_minor": 5
}
