{
 "cells": [
  {
   "cell_type": "markdown",
   "id": "c03a3a4c",
   "metadata": {},
   "source": [
    "<div class=\"alert alert-block alert-warning\">\n",
    "        As a last step before you submit, Please restart the notebook, rerun all cells, save and then submit.\n",
    "</div>"
   ]
  },
  {
   "cell_type": "markdown",
   "id": "818f6b53",
   "metadata": {},
   "source": [
    "# Problem 2: Programming Setup (5 points)"
   ]
  },
  {
   "cell_type": "markdown",
   "id": "a575d6e3",
   "metadata": {},
   "source": [
    "In this problem, let’s set up the python environment using Conda. You do not need to submit any code for\n",
    "this problem.\n",
    "<br>\n",
    "\n",
    "* Install Python 3 with Conda. \n",
    "* Create your own virtual environment (see https://numpy.org/install/) for an example)\n",
    "* In your virtual environment, install numpy, scipy, matplotlib. Install Jupyter lab. \n",
    "* Start the jupyter lab and start a jupyter notebook. \n",
    "* Import matplotlib.pyplot and plot anything in there (e.g.,pyplot.plot([1,2,3],[4,5,6])). If you use an external dataset, add the dataset file to HW2/Q2/data/your-file\n",
    "* Once you are done, you may want to deactivate your own virtual environment. \n",
    "* If you have already been using Jupyter Lab, no need to reinstall; just submit the answer."
   ]
  },
  {
   "cell_type": "code",
   "execution_count": null,
   "id": "bfb514ec",
   "metadata": {},
   "outputs": [],
   "source": [
    "# Your imports code"
   ]
  },
  {
   "cell_type": "code",
   "execution_count": null,
   "id": "06cb050b",
   "metadata": {},
   "outputs": [],
   "source": [
    "#Plot something your wish with matplotlib. "
   ]
  },
  {
   "cell_type": "code",
   "execution_count": null,
   "id": "8f074149",
   "metadata": {},
   "outputs": [],
   "source": [
    "# DO NOT EDIT this cell. \n",
    "\n",
    "import numpy\n",
    "print(numpy.__version__)"
   ]
  },
  {
   "cell_type": "code",
   "execution_count": null,
   "id": "0b37f458",
   "metadata": {},
   "outputs": [],
   "source": [
    "# DO NOT EDIT this cell. \n",
    "import scipy\n",
    "print(scipy.__version__)"
   ]
  },
  {
   "cell_type": "code",
   "execution_count": null,
   "id": "527f4a87",
   "metadata": {},
   "outputs": [],
   "source": [
    "# DO NOT EDIT this cell. \n",
    "import matplotlib\n",
    "print(matplotlib.__version__)"
   ]
  }
 ],
 "metadata": {
  "kernelspec": {
   "display_name": "Python 3 (ipykernel)",
   "language": "python",
   "name": "python3"
  },
  "language_info": {
   "codemirror_mode": {
    "name": "ipython",
    "version": 3
   },
   "file_extension": ".py",
   "mimetype": "text/x-python",
   "name": "python",
   "nbconvert_exporter": "python",
   "pygments_lexer": "ipython3",
   "version": "3.11.5"
  }
 },
 "nbformat": 4,
 "nbformat_minor": 5
}
