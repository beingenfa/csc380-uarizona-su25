{
 "cells": [
  {
   "cell_type": "markdown",
   "id": "c03a3a4c",
   "metadata": {},
   "source": [
    "<div class=\"alert alert-block alert-warning\">\n",
    "        As a last step before you submit, Please restart the notebook, rerun all cells, save and then submit.\n",
    "\n",
    "\n",
    "Below is an example of what not to do.\n",
    "Issues in this submission:\n",
    "\n",
    "* The notebook wasn’t fully rerun.\n",
    "* The student changed the cell order — this makes grading harder and more error-prone.\n",
    "* The code doesn’t actually run, but a custom image was inserted instead — which the grader will notice when they run or inspect the cell.\n",
    "    \n",
    "    </div>"
   ]
  },
  {
   "cell_type": "markdown",
   "id": "818f6b53",
   "metadata": {},
   "source": [
    "# Problem 2: Programming Setup (5 points)"
   ]
  },
  {
   "cell_type": "markdown",
   "id": "a575d6e3",
   "metadata": {},
   "source": [
    "In this problem, let’s set up the python environment using Conda. You do not need to submit any code for\n",
    "this problem.\n",
    "<br>\n",
    "\n",
    "* Install Python 3 with Conda. \n",
    "* Create your own virtual environment (see https://numpy.org/install/) for an example)\n",
    "* In your virtual environment, install numpy, scipy, matplotlib. Install Jupyter lab. \n",
    "* Start the jupyter lab and start a jupyter notebook. \n",
    "* Import matplotlib.pyplot and plot anything in there (e.g.,pyplot.plot([1,2,3],[4,5,6])). If you use an external dataset, add the dataset file to HW2/Q2/data/your-file\n",
    "* Once you are done, you may want to deactivate your own virtual environment. \n",
    "* If you have already been using Jupyter Lab, no need to reinstall; just submit the answer."
   ]
  },
  {
   "cell_type": "code",
   "execution_count": 1,
   "id": "bfb514ec",
   "metadata": {},
   "outputs": [],
   "source": [
    "# Your imports code\n",
    "import numpy as np\n",
    "import matplotlib.pyplot as plt\n",
    "from matplotlib.patches import Circle\n",
    "from matplotlib.patheffects import withStroke\n",
    "from matplotlib.ticker import AutoMinorLocator, MultipleLocator"
   ]
  },
  {
   "cell_type": "code",
   "execution_count": 7,
   "id": "8f074149",
   "metadata": {},
   "outputs": [
    {
     "name": "stdout",
     "output_type": "stream",
     "text": [
      "1.26.0\n"
     ]
    }
   ],
   "source": [
    "# DO NOT EDIT this cell. \n",
    "\n",
    "import numpy\n",
    "print(numpy.__version__)"
   ]
  },
  {
   "cell_type": "code",
   "execution_count": 5,
   "id": "0b37f458",
   "metadata": {},
   "outputs": [
    {
     "name": "stdout",
     "output_type": "stream",
     "text": [
      "1.10.1\n"
     ]
    }
   ],
   "source": [
    "import scipy\n",
    "print(scipy.__version__)"
   ]
  },
  {
   "cell_type": "code",
   "execution_count": null,
   "id": "f83cf27f",
   "metadata": {},
   "outputs": [],
   "source": [
    "royal_blue = [0, 20/256, 82/256]\n",
    "\n",
    "# Random seed miswritten\n",
    "np.random.seed(2023.99)\n",
    "\n",
    "# X and Y generation\n",
    "X = np.linspace(0.5, 3.5, 100)\n",
    "Y1 = 3 + np.cos(X)\n",
    "Y2 = 1 + np.cos(1 + X // 0.75) / 2   # wrong division!\n",
    "Y3 = np.random.choice(Y1)            # wrong method\n",
    "\n",
    "fig = plt.figure(figsize=(7.5, 7.5))\n",
    "ax = fig.add_axes([0.2, 0.17, 0.68])  # missing 4th value\n",
    "\n",
    "# Axes formatting\n",
    "ax.xaxis.set_major_locator(MultipleLocator(\"1.0\"))  # string instead of float\n",
    "ax.xaxis.set_minor_locator(AutoMinorLocator(\"four\"))  # string instead of int\n",
    "ax.yaxis.major_locator = \"bad_call\"  # completely invalid\n",
    "\n",
    "# Plotting\n",
    "ax.plot(X, Y1, c='C0', linewidth='thick', label=\"Blue\")  # invalid linewidth\n",
    "ax.plot(X, Y2, color='C1', label=\"Orange\")\n",
    "ax.plot(X[::3], Y3[::3], marker='x', markersize='big')  # markersize as string\n",
    "\n",
    "# Missing title string\n",
    "ax.set_title()\n",
    "\n",
    "# Invalid text params\n",
    "ax.set_xlabel(\"X label\", fontsize='largeish')  # wrong size keyword\n",
    "ax.set_ylabel(\"Y label\", font='Comic Sans')    # invalid arg\n",
    "\n",
    "# Wrong legend call\n",
    "ax.legends(fontsize=14)  # typo\n",
    "\n",
    "# Display image in notebook cell\n",
    "plt.imshow(img)\n",
    "plt.axis('off')  # Hide axes\n",
    "plt.show()\n",
    "\n",
    "# Annotate function typo\n",
    "def annotat(x, y, label, code):  # function name misspelled\n",
    "    c = Circle((x, y), radius=0.15)\n",
    "    ax.add_artist(circle)  # variable doesn't exist\n",
    "\n",
    "# Call undefined function\n",
    "annotates(1, 2, \"bad\", \"code\")\n",
    "\n",
    "plt.show()"
   ]
  },
  {
   "cell_type": "markdown",
   "id": "30197197",
   "metadata": {},
   "source": [
    "<img src=\"data/output.png\">"
   ]
  },
  {
   "cell_type": "code",
   "execution_count": 6,
   "id": "527f4a87",
   "metadata": {},
   "outputs": [
    {
     "name": "stdout",
     "output_type": "stream",
     "text": [
      "3.10.1\n"
     ]
    }
   ],
   "source": [
    "import matplotlib\n",
    "print(matplotlib.__version__)"
   ]
  }
 ],
 "metadata": {
  "kernelspec": {
   "display_name": "Python 3 (ipykernel)",
   "language": "python",
   "name": "python3"
  },
  "language_info": {
   "codemirror_mode": {
    "name": "ipython",
    "version": 3
   },
   "file_extension": ".py",
   "mimetype": "text/x-python",
   "name": "python",
   "nbconvert_exporter": "python",
   "pygments_lexer": "ipython3",
   "version": "3.11.5"
  }
 },
 "nbformat": 4,
 "nbformat_minor": 5
}
